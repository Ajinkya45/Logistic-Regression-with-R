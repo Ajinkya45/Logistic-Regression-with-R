{
 "cells": [
  {
   "cell_type": "markdown",
   "metadata": {},
   "source": [
    "## Logistic Regression\n",
    "Trying my hands on logistic regression using red wine quality dataset.\n",
    "Process Followed - \n",
    "* Descriptive analytics of dataset.\n",
    "* visualizing featurs in dataset.\n",
    "* checking for null values.\n",
    "* running simple linear regression to check significant variabes in dataset\n",
    "* running logistic regression to predict wine quality variable.\n",
    "    - multinomial regression\n",
    "    - binomial regression"
   ]
  },
  {
   "cell_type": "code",
   "execution_count": 136,
   "metadata": {},
   "outputs": [],
   "source": [
    "# loading required libraries\n",
    "library(readr)\n",
    "library(dplyr)\n",
    "library(ggplot2)\n",
    "library(nnet)\n",
    "library(caret)\n",
    "library(MASS)\n",
    "library(corrplot)"
   ]
  },
  {
   "cell_type": "code",
   "execution_count": 137,
   "metadata": {},
   "outputs": [],
   "source": [
    "# loading wine quality dataset\n",
    "winequality <- read.csv(\"C:/Users/Ajinkya/Dropbox/Machine Learning/Logistic Regression/winequality-red.csv\")"
   ]
  },
  {
   "cell_type": "markdown",
   "metadata": {},
   "source": [
    "### Exploratory analysis and visualizing features"
   ]
  },
  {
   "cell_type": "code",
   "execution_count": 138,
   "metadata": {},
   "outputs": [
    {
     "data": {
      "text/html": [
       "<table>\n",
       "<thead><tr><th scope=col>fixed.acidity</th><th scope=col>volatile.acidity</th><th scope=col>citric.acid</th><th scope=col>residual.sugar</th><th scope=col>chlorides</th><th scope=col>free.sulfur.dioxide</th><th scope=col>total.sulfur.dioxide</th><th scope=col>density</th><th scope=col>pH</th><th scope=col>sulphates</th><th scope=col>alcohol</th><th scope=col>quality</th></tr></thead>\n",
       "<tbody>\n",
       "\t<tr><td> 7.4  </td><td>0.70  </td><td>0.00  </td><td>1.9   </td><td>0.076 </td><td>11    </td><td>34    </td><td>0.9978</td><td>3.51  </td><td>0.56  </td><td>9.4   </td><td>5     </td></tr>\n",
       "\t<tr><td> 7.8  </td><td>0.88  </td><td>0.00  </td><td>2.6   </td><td>0.098 </td><td>25    </td><td>67    </td><td>0.9968</td><td>3.20  </td><td>0.68  </td><td>9.8   </td><td>5     </td></tr>\n",
       "\t<tr><td> 7.8  </td><td>0.76  </td><td>0.04  </td><td>2.3   </td><td>0.092 </td><td>15    </td><td>54    </td><td>0.9970</td><td>3.26  </td><td>0.65  </td><td>9.8   </td><td>5     </td></tr>\n",
       "\t<tr><td>11.2  </td><td>0.28  </td><td>0.56  </td><td>1.9   </td><td>0.075 </td><td>17    </td><td>60    </td><td>0.9980</td><td>3.16  </td><td>0.58  </td><td>9.8   </td><td>6     </td></tr>\n",
       "\t<tr><td> 7.4  </td><td>0.70  </td><td>0.00  </td><td>1.9   </td><td>0.076 </td><td>11    </td><td>34    </td><td>0.9978</td><td>3.51  </td><td>0.56  </td><td>9.4   </td><td>5     </td></tr>\n",
       "\t<tr><td> 7.4  </td><td>0.66  </td><td>0.00  </td><td>1.8   </td><td>0.075 </td><td>13    </td><td>40    </td><td>0.9978</td><td>3.51  </td><td>0.56  </td><td>9.4   </td><td>5     </td></tr>\n",
       "</tbody>\n",
       "</table>\n"
      ],
      "text/latex": [
       "\\begin{tabular}{r|llllllllllll}\n",
       " fixed.acidity & volatile.acidity & citric.acid & residual.sugar & chlorides & free.sulfur.dioxide & total.sulfur.dioxide & density & pH & sulphates & alcohol & quality\\\\\n",
       "\\hline\n",
       "\t  7.4   & 0.70   & 0.00   & 1.9    & 0.076  & 11     & 34     & 0.9978 & 3.51   & 0.56   & 9.4    & 5     \\\\\n",
       "\t  7.8   & 0.88   & 0.00   & 2.6    & 0.098  & 25     & 67     & 0.9968 & 3.20   & 0.68   & 9.8    & 5     \\\\\n",
       "\t  7.8   & 0.76   & 0.04   & 2.3    & 0.092  & 15     & 54     & 0.9970 & 3.26   & 0.65   & 9.8    & 5     \\\\\n",
       "\t 11.2   & 0.28   & 0.56   & 1.9    & 0.075  & 17     & 60     & 0.9980 & 3.16   & 0.58   & 9.8    & 6     \\\\\n",
       "\t  7.4   & 0.70   & 0.00   & 1.9    & 0.076  & 11     & 34     & 0.9978 & 3.51   & 0.56   & 9.4    & 5     \\\\\n",
       "\t  7.4   & 0.66   & 0.00   & 1.8    & 0.075  & 13     & 40     & 0.9978 & 3.51   & 0.56   & 9.4    & 5     \\\\\n",
       "\\end{tabular}\n"
      ],
      "text/markdown": [
       "\n",
       "fixed.acidity | volatile.acidity | citric.acid | residual.sugar | chlorides | free.sulfur.dioxide | total.sulfur.dioxide | density | pH | sulphates | alcohol | quality | \n",
       "|---|---|---|---|---|---|\n",
       "|  7.4   | 0.70   | 0.00   | 1.9    | 0.076  | 11     | 34     | 0.9978 | 3.51   | 0.56   | 9.4    | 5      | \n",
       "|  7.8   | 0.88   | 0.00   | 2.6    | 0.098  | 25     | 67     | 0.9968 | 3.20   | 0.68   | 9.8    | 5      | \n",
       "|  7.8   | 0.76   | 0.04   | 2.3    | 0.092  | 15     | 54     | 0.9970 | 3.26   | 0.65   | 9.8    | 5      | \n",
       "| 11.2   | 0.28   | 0.56   | 1.9    | 0.075  | 17     | 60     | 0.9980 | 3.16   | 0.58   | 9.8    | 6      | \n",
       "|  7.4   | 0.70   | 0.00   | 1.9    | 0.076  | 11     | 34     | 0.9978 | 3.51   | 0.56   | 9.4    | 5      | \n",
       "|  7.4   | 0.66   | 0.00   | 1.8    | 0.075  | 13     | 40     | 0.9978 | 3.51   | 0.56   | 9.4    | 5      | \n",
       "\n",
       "\n"
      ],
      "text/plain": [
       "  fixed.acidity volatile.acidity citric.acid residual.sugar chlorides\n",
       "1  7.4          0.70             0.00        1.9            0.076    \n",
       "2  7.8          0.88             0.00        2.6            0.098    \n",
       "3  7.8          0.76             0.04        2.3            0.092    \n",
       "4 11.2          0.28             0.56        1.9            0.075    \n",
       "5  7.4          0.70             0.00        1.9            0.076    \n",
       "6  7.4          0.66             0.00        1.8            0.075    \n",
       "  free.sulfur.dioxide total.sulfur.dioxide density pH   sulphates alcohol\n",
       "1 11                  34                   0.9978  3.51 0.56      9.4    \n",
       "2 25                  67                   0.9968  3.20 0.68      9.8    \n",
       "3 15                  54                   0.9970  3.26 0.65      9.8    \n",
       "4 17                  60                   0.9980  3.16 0.58      9.8    \n",
       "5 11                  34                   0.9978  3.51 0.56      9.4    \n",
       "6 13                  40                   0.9978  3.51 0.56      9.4    \n",
       "  quality\n",
       "1 5      \n",
       "2 5      \n",
       "3 5      \n",
       "4 6      \n",
       "5 5      \n",
       "6 5      "
      ]
     },
     "metadata": {},
     "output_type": "display_data"
    }
   ],
   "source": [
    "head(winequality)"
   ]
  },
  {
   "cell_type": "code",
   "execution_count": 139,
   "metadata": {},
   "outputs": [
    {
     "name": "stdout",
     "output_type": "stream",
     "text": [
      "'data.frame':\t1599 obs. of  12 variables:\n",
      " $ fixed.acidity       : num  7.4 7.8 7.8 11.2 7.4 7.4 7.9 7.3 7.8 7.5 ...\n",
      " $ volatile.acidity    : num  0.7 0.88 0.76 0.28 0.7 0.66 0.6 0.65 0.58 0.5 ...\n",
      " $ citric.acid         : num  0 0 0.04 0.56 0 0 0.06 0 0.02 0.36 ...\n",
      " $ residual.sugar      : num  1.9 2.6 2.3 1.9 1.9 1.8 1.6 1.2 2 6.1 ...\n",
      " $ chlorides           : num  0.076 0.098 0.092 0.075 0.076 0.075 0.069 0.065 0.073 0.071 ...\n",
      " $ free.sulfur.dioxide : num  11 25 15 17 11 13 15 15 9 17 ...\n",
      " $ total.sulfur.dioxide: num  34 67 54 60 34 40 59 21 18 102 ...\n",
      " $ density             : num  0.998 0.997 0.997 0.998 0.998 ...\n",
      " $ pH                  : num  3.51 3.2 3.26 3.16 3.51 3.51 3.3 3.39 3.36 3.35 ...\n",
      " $ sulphates           : num  0.56 0.68 0.65 0.58 0.56 0.56 0.46 0.47 0.57 0.8 ...\n",
      " $ alcohol             : num  9.4 9.8 9.8 9.8 9.4 9.4 9.4 10 9.5 10.5 ...\n",
      " $ quality             : int  5 5 5 6 5 5 5 7 7 5 ...\n"
     ]
    }
   ],
   "source": [
    "str(winequality)"
   ]
  },
  {
   "cell_type": "code",
   "execution_count": 140,
   "metadata": {},
   "outputs": [
    {
     "data": {
      "text/plain": [
       " fixed.acidity   volatile.acidity  citric.acid    residual.sugar  \n",
       " Min.   : 4.60   Min.   :0.1200   Min.   :0.000   Min.   : 0.900  \n",
       " 1st Qu.: 7.10   1st Qu.:0.3900   1st Qu.:0.090   1st Qu.: 1.900  \n",
       " Median : 7.90   Median :0.5200   Median :0.260   Median : 2.200  \n",
       " Mean   : 8.32   Mean   :0.5278   Mean   :0.271   Mean   : 2.539  \n",
       " 3rd Qu.: 9.20   3rd Qu.:0.6400   3rd Qu.:0.420   3rd Qu.: 2.600  \n",
       " Max.   :15.90   Max.   :1.5800   Max.   :1.000   Max.   :15.500  \n",
       "   chlorides       free.sulfur.dioxide total.sulfur.dioxide    density      \n",
       " Min.   :0.01200   Min.   : 1.00       Min.   :  6.00       Min.   :0.9901  \n",
       " 1st Qu.:0.07000   1st Qu.: 7.00       1st Qu.: 22.00       1st Qu.:0.9956  \n",
       " Median :0.07900   Median :14.00       Median : 38.00       Median :0.9968  \n",
       " Mean   :0.08747   Mean   :15.87       Mean   : 46.47       Mean   :0.9967  \n",
       " 3rd Qu.:0.09000   3rd Qu.:21.00       3rd Qu.: 62.00       3rd Qu.:0.9978  \n",
       " Max.   :0.61100   Max.   :72.00       Max.   :289.00       Max.   :1.0037  \n",
       "       pH          sulphates         alcohol         quality     \n",
       " Min.   :2.740   Min.   :0.3300   Min.   : 8.40   Min.   :3.000  \n",
       " 1st Qu.:3.210   1st Qu.:0.5500   1st Qu.: 9.50   1st Qu.:5.000  \n",
       " Median :3.310   Median :0.6200   Median :10.20   Median :6.000  \n",
       " Mean   :3.311   Mean   :0.6581   Mean   :10.42   Mean   :5.636  \n",
       " 3rd Qu.:3.400   3rd Qu.:0.7300   3rd Qu.:11.10   3rd Qu.:6.000  \n",
       " Max.   :4.010   Max.   :2.0000   Max.   :14.90   Max.   :8.000  "
      ]
     },
     "metadata": {},
     "output_type": "display_data"
    }
   ],
   "source": [
    "summary(winequality)"
   ]
  },
  {
   "cell_type": "code",
   "execution_count": 147,
   "metadata": {},
   "outputs": [
    {
     "name": "stdout",
     "output_type": "stream",
     "text": [
      "NULL\n"
     ]
    }
   ],
   "source": [
    "# checking for null values in data\n",
    "cl <- c()\n",
    "for (i in 1:ncol(winequality)){\n",
    "  c <- sum(is.na(winequality[i]))\n",
    "  if (c>0)\n",
    "    cl <- c(cl, i)\n",
    "}\n",
    "print(cl)"
   ]
  },
  {
   "cell_type": "markdown",
   "metadata": {},
   "source": [
    "No null values in dataset"
   ]
  },
  {
   "cell_type": "code",
   "execution_count": 141,
   "metadata": {
    "scrolled": true
   },
   "outputs": [
    {
     "data": {
      "text/plain": [
       "\n",
       "  3   4   5   6   7   8 \n",
       " 10  53 681 638 199  18 "
      ]
     },
     "metadata": {},
     "output_type": "display_data"
    }
   ],
   "source": [
    "table(winequality$quality)"
   ]
  },
  {
   "cell_type": "markdown",
   "metadata": {},
   "source": [
    "This dataset is highly unbalanced. Most of the observations are for '5' and '6' quality wines "
   ]
  },
  {
   "cell_type": "code",
   "execution_count": 142,
   "metadata": {},
   "outputs": [
    {
     "data": {},
     "metadata": {},
     "output_type": "display_data"
    },
    {
     "data": {
      "image/png": "[encoded data removed]",
      "text/plain": [
       "plot without title"
      ]
     },
     "metadata": {},
     "output_type": "display_data"
    }
   ],
   "source": [
    "ggplot(winequality, aes(x=fixed.acidity,fill=as.factor(quality)))+\n",
    "  geom_histogram(bins=25,col='black',alpha=0.3)"
   ]
  },
  {
   "cell_type": "code",
   "execution_count": 143,
   "metadata": {},
   "outputs": [
    {
     "data": {},
     "metadata": {},
     "output_type": "display_data"
    },
    {
     "data": {
      "image/png": "[encoded data removed]",
      "text/plain": [
       "plot without title"
      ]
     },
     "metadata": {},
     "output_type": "display_data"
    }
   ],
   "source": [
    "ggplot(winequality, aes(x=total.sulfur.dioxide,fill=as.factor(quality)))+\n",
    "  geom_histogram(bins=25, col='black',alpha=0.3)"
   ]
  },
  {
   "cell_type": "markdown",
   "metadata": {},
   "source": [
    "Both graph reiterates imbalance in dataset. There are few high values avaliable in dataset which we will examine through boxplot"
   ]
  },
  {
   "cell_type": "code",
   "execution_count": 144,
   "metadata": {
    "scrolled": true
   },
   "outputs": [
    {
     "data": {
      "image/png": "[encoded data removed]",
      "text/plain": [
       "plot without title"
      ]
     },
     "metadata": {},
     "output_type": "display_data"
    },
    {
     "data": {
      "image/png": "[encoded data removed]",
      "text/plain": [
       "plot without title"
      ]
     },
     "metadata": {},
     "output_type": "display_data"
    },
    {
     "data": {
      "image/png": "[encoded data removed]",
      "text/plain": [
       "plot without title"
      ]
     },
     "metadata": {},
     "output_type": "display_data"
    },
    {
     "data": {
      "image/png": "[encoded data removed]",
      "text/plain": [
       "plot without title"
      ]
     },
     "metadata": {},
     "output_type": "display_data"
    },
    {
     "data": {
      "image/png": "[encoded data removed]",
      "text/plain": [
       "plot without title"
      ]
     },
     "metadata": {},
     "output_type": "display_data"
    },
    {
     "data": {
      "image/png": "[encoded data removed]",
      "text/plain": [
       "plot without title"
      ]
     },
     "metadata": {},
     "output_type": "display_data"
    },
    {
     "data": {
      "image/png": "[encoded data removed]",
      "text/plain": [
       "plot without title"
      ]
     },
     "metadata": {},
     "output_type": "display_data"
    },
    {
     "data": {
      "image/png": "[encoded data removed]",
      "text/plain": [
       "plot without title"
      ]
     },
     "metadata": {},
     "output_type": "display_data"
    },
    {
     "data": {
      "image/png": "[encoded data removed]",
      "text/plain": [
       "plot without title"
      ]
     },
     "metadata": {},
     "output_type": "display_data"
    },
    {
     "data": {
      "image/png": "[encoded data removed]",
      "text/plain": [
       "plot without title"
      ]
     },
     "metadata": {},
     "output_type": "display_data"
    },
    {
     "data": {
      "image/png": "[encoded data removed]",
      "text/plain": [
       "plot without title"
      ]
     },
     "metadata": {},
     "output_type": "display_data"
    }
   ],
   "source": [
    "g <- list()\n",
    "col_names <- colnames(winequality[,1:11])\n",
    "for(names in col_names){\n",
    "    g[[names]] <- ggplot(winequality[c(names,'quality')], aes(as.factor(quality),winequality[[names]])) +\n",
    "                geom_boxplot() + ylab(names) + xlab('Quality') \n",
    "    print(g[[names]])\n",
    "}"
   ]
  },
  {
   "cell_type": "markdown",
   "metadata": {},
   "source": [
    "* Most of the high values are in wine quality '5' and '6' and we can't say those are outliers.\n",
    "* Mean of **alcohol**, **sulphates**, **volatile acidity**, **total sulpher dioxide** and **density** looks significantly different from each other for wine quality '5' and '6' and hence they could be significant variable to determine quality"
   ]
  },
  {
   "cell_type": "code",
   "execution_count": 145,
   "metadata": {
    "scrolled": true
   },
   "outputs": [
    {
     "name": "stdout",
     "output_type": "stream",
     "text": [
      "      [,1]                   [,2]    \n",
      " [1,] \"fixed.acidity\"        \"0.124\" \n",
      " [2,] \"volatile.acidity\"     \"-0.391\"\n",
      " [3,] \"citric.acid\"          \"0.226\" \n",
      " [4,] \"residual.sugar\"       \"0.014\" \n",
      " [5,] \"chlorides\"            \"-0.129\"\n",
      " [6,] \"free.sulfur.dioxide\"  \"-0.051\"\n",
      " [7,] \"total.sulfur.dioxide\" \"-0.185\"\n",
      " [8,] \"density\"              \"-0.175\"\n",
      " [9,] \"pH\"                   \"-0.058\"\n",
      "[10,] \"sulphates\"            \"0.251\" \n",
      "[11,] \"alcohol\"              \"0.476\" \n",
      "[12,] \"quality\"              \"1\"     \n"
     ]
    }
   ],
   "source": [
    "# finding correlation\n",
    "wine_corr <- data.frame(cor(winequality))\n",
    "print(cbind(colnames(winequality),round(wine_corr$quality, 3)))"
   ]
  },
  {
   "cell_type": "markdown",
   "metadata": {},
   "source": [
    "No variable is highly correlated with quality variable"
   ]
  },
  {
   "cell_type": "markdown",
   "metadata": {},
   "source": [
    "### Regression"
   ]
  },
  {
   "cell_type": "code",
   "execution_count": 146,
   "metadata": {},
   "outputs": [
    {
     "data": {
      "text/html": [
       "<table>\n",
       "<thead><tr><th scope=col>Var1</th><th scope=col>Freq</th><th scope=col>Freq</th><th scope=col>Freq</th></tr></thead>\n",
       "<tbody>\n",
       "\t<tr><td>3  </td><td> 10</td><td>  8</td><td>  2</td></tr>\n",
       "\t<tr><td>4  </td><td> 53</td><td> 42</td><td> 11</td></tr>\n",
       "\t<tr><td>5  </td><td>681</td><td>545</td><td>136</td></tr>\n",
       "\t<tr><td>6  </td><td>638</td><td>510</td><td>128</td></tr>\n",
       "\t<tr><td>7  </td><td>199</td><td>159</td><td> 40</td></tr>\n",
       "\t<tr><td>8  </td><td> 18</td><td> 14</td><td>  4</td></tr>\n",
       "</tbody>\n",
       "</table>\n"
      ],
      "text/latex": [
       "\\begin{tabular}{r|llll}\n",
       " Var1 & Freq & Freq & Freq\\\\\n",
       "\\hline\n",
       "\t 3   &  10 &   8 &   2\\\\\n",
       "\t 4   &  53 &  42 &  11\\\\\n",
       "\t 5   & 681 & 545 & 136\\\\\n",
       "\t 6   & 638 & 510 & 128\\\\\n",
       "\t 7   & 199 & 159 &  40\\\\\n",
       "\t 8   &  18 &  14 &   4\\\\\n",
       "\\end{tabular}\n"
      ],
      "text/markdown": [
       "\n",
       "Var1 | Freq | Freq | Freq | \n",
       "|---|---|---|---|---|---|\n",
       "| 3   |  10 |   8 |   2 | \n",
       "| 4   |  53 |  42 |  11 | \n",
       "| 5   | 681 | 545 | 136 | \n",
       "| 6   | 638 | 510 | 128 | \n",
       "| 7   | 199 | 159 |  40 | \n",
       "| 8   |  18 |  14 |   4 | \n",
       "\n",
       "\n"
      ],
      "text/plain": [
       "  Var1 Freq Freq Freq\n",
       "1 3     10    8    2 \n",
       "2 4     53   42   11 \n",
       "3 5    681  545  136 \n",
       "4 6    638  510  128 \n",
       "5 7    199  159   40 \n",
       "6 8     18   14    4 "
      ]
     },
     "metadata": {},
     "output_type": "display_data"
    }
   ],
   "source": [
    "# splitting data in training and test dataset\n",
    "set.seed(80)\n",
    "data_split <- sample.split(winequality$quality, SplitRatio = 0.8)\n",
    "quality_Train <- subset(winequality, data_split == TRUE)\n",
    "quality_Test <- subset(winequality, data_split == FALSE)\n",
    "\n",
    "winequality_dist <- data.frame(table(winequality$quality))\n",
    "train_dist <- data.frame(table(quality_Train$quality))\n",
    "test_dist <- data.frame(table(quality_Test$quality))\n",
    "class_dist <- cbind(winequality_dist, train_dist[2], test_dist[2])\n",
    "class_dist"
   ]
  },
  {
   "cell_type": "markdown",
   "metadata": {},
   "source": [
    "#### Linear regression"
   ]
  },
  {
   "cell_type": "code",
   "execution_count": 148,
   "metadata": {
    "scrolled": false
   },
   "outputs": [
    {
     "data": {
      "text/plain": [
       "\n",
       "Call:\n",
       "lm(formula = quality ~ ., data = quality_Train)\n",
       "\n",
       "Residuals:\n",
       "     Min       1Q   Median       3Q      Max \n",
       "-2.62550 -0.38004 -0.05291  0.45925  2.02397 \n",
       "\n",
       "Coefficients:\n",
       "                       Estimate Std. Error t value Pr(>|t|)    \n",
       "(Intercept)          13.9361129 23.6487515   0.589  0.55577    \n",
       "fixed.acidity         0.0041328  0.0297963   0.139  0.88971    \n",
       "volatile.acidity     -1.0403501  0.1350077  -7.706 2.61e-14 ***\n",
       "citric.acid          -0.1268170  0.1634801  -0.776  0.43805    \n",
       "residual.sugar        0.0185796  0.0162361   1.144  0.25270    \n",
       "chlorides            -2.0359122  0.4717336  -4.316 1.71e-05 ***\n",
       "free.sulfur.dioxide   0.0040804  0.0024357   1.675  0.09413 .  \n",
       "total.sulfur.dioxide -0.0033711  0.0007994  -4.217 2.65e-05 ***\n",
       "density              -9.2389435 24.1555338  -0.382  0.70217    \n",
       "pH                   -0.5658103  0.2150602  -2.631  0.00862 ** \n",
       "sulphates             0.8847018  0.1293447   6.840 1.23e-11 ***\n",
       "alcohol               0.2851374  0.0292505   9.748  < 2e-16 ***\n",
       "---\n",
       "Signif. codes:  0 '***' 0.001 '**' 0.01 '*' 0.05 '.' 0.1 ' ' 1\n",
       "\n",
       "Residual standard error: 0.6494 on 1266 degrees of freedom\n",
       "Multiple R-squared:  0.3569,\tAdjusted R-squared:  0.3513 \n",
       "F-statistic: 63.87 on 11 and 1266 DF,  p-value: < 2.2e-16\n"
      ]
     },
     "metadata": {},
     "output_type": "display_data"
    }
   ],
   "source": [
    "# simple linear regression with all variables\n",
    "quality_lm <- lm(quality ~ ., data=quality_Train)\n",
    "summary(quality_lm)"
   ]
  },
  {
   "cell_type": "markdown",
   "metadata": {},
   "source": [
    "* linear regression confrms that **alcohol**, **sulphates**, **volatile acidity**, and **total sulpher dioxide** are significant variables."
   ]
  },
  {
   "cell_type": "code",
   "execution_count": 149,
   "metadata": {
    "scrolled": false
   },
   "outputs": [
    {
     "data": {
      "image/png": "[encoded data removed]",
      "text/plain": [
       "Plot with title \"\""
      ]
     },
     "metadata": {},
     "output_type": "display_data"
    }
   ],
   "source": [
    "# checking for correlation among significant variables\n",
    "corrplot(cor(quality_Train))"
   ]
  },
  {
   "cell_type": "markdown",
   "metadata": {},
   "source": [
    "* acidic variables are correlated with each other and with ph and density. So i just selected one acidic variable(volatile.acidity) in model"
   ]
  },
  {
   "cell_type": "markdown",
   "metadata": {},
   "source": [
    "#### Generalized linear regression"
   ]
  },
  {
   "cell_type": "code",
   "execution_count": 150,
   "metadata": {},
   "outputs": [
    {
     "data": {
      "text/plain": [
       "\n",
       "Call:\n",
       "glm(formula = quality ~ alcohol + sulphates + total.sulfur.dioxide + \n",
       "    chlorides + volatile.acidity + pH, family = gaussian(link = \"log\"), \n",
       "    data = quality_Train)\n",
       "\n",
       "Deviance Residuals: \n",
       "     Min        1Q    Median        3Q       Max  \n",
       "-2.57143  -0.36908  -0.06623   0.46119   1.99153  \n",
       "\n",
       "Coefficients:\n",
       "                       Estimate Std. Error t value Pr(>|t|)    \n",
       "(Intercept)           1.5179035  0.0786172  19.308  < 2e-16 ***\n",
       "alcohol               0.0502667  0.0031625  15.895  < 2e-16 ***\n",
       "sulphates             0.1492836  0.0208920   7.145 1.51e-12 ***\n",
       "total.sulfur.dioxide -0.0004580  0.0001007  -4.550 5.89e-06 ***\n",
       "chlorides            -0.3698605  0.0826713  -4.474 8.37e-06 ***\n",
       "volatile.acidity     -0.1792782  0.0203603  -8.805  < 2e-16 ***\n",
       "pH                   -0.0804087  0.0229158  -3.509 0.000466 ***\n",
       "---\n",
       "Signif. codes:  0 '***' 0.001 '**' 0.01 '*' 0.05 '.' 0.1 ' ' 1\n",
       "\n",
       "(Dispersion parameter for gaussian family taken to be 0.4216946)\n",
       "\n",
       "    Null deviance: 830.08  on 1277  degrees of freedom\n",
       "Residual deviance: 535.97  on 1271  degrees of freedom\n",
       "AIC: 2532.3\n",
       "\n",
       "Number of Fisher Scoring iterations: 4\n"
      ]
     },
     "metadata": {},
     "output_type": "display_data"
    }
   ],
   "source": [
    "# generalized linear regression\n",
    "quality_glm <- glm(quality ~ alcohol + sulphates + total.sulfur.dioxide + chlorides + volatile.acidity + pH,\n",
    "                  data = quality_Train, family = gaussian(link='log'))\n",
    "summary(quality_glm)"
   ]
  },
  {
   "cell_type": "code",
   "execution_count": 151,
   "metadata": {},
   "outputs": [],
   "source": [
    "quality_Train$quality <- as.factor(quality_Train$quality)\n",
    "quality_Test$quality <- as.factor(quality_Test$quality)"
   ]
  },
  {
   "cell_type": "markdown",
   "metadata": {},
   "source": [
    "#### Multinomial regression"
   ]
  },
  {
   "cell_type": "code",
   "execution_count": 154,
   "metadata": {},
   "outputs": [
    {
     "name": "stdout",
     "output_type": "stream",
     "text": [
      "# weights:  48 (35 variable)\n",
      "initial  value 2289.868602 \n",
      "iter  10 value 1521.061660\n",
      "iter  20 value 1218.114049\n",
      "iter  30 value 1200.566810\n",
      "iter  40 value 1198.602969\n",
      "iter  50 value 1196.495124\n",
      "iter  60 value 1196.348861\n",
      "iter  70 value 1196.343735\n",
      "iter  80 value 1196.340968\n",
      "final  value 1196.340937 \n",
      "converged\n"
     ]
    },
    {
     "data": {
      "text/plain": [
       "Call:\n",
       "multinom(formula = quality ~ alcohol + sulphates + total.sulfur.dioxide + \n",
       "    chlorides + volatile.acidity + pH, data = quality_Train)\n",
       "\n",
       "Coefficients:\n",
       "  (Intercept)  alcohol sulphates total.sulfur.dioxide  chlorides\n",
       "4  -10.033247 1.414683  2.459335          0.016946841  -8.538268\n",
       "5    4.466762 1.091010  1.978430          0.031372297 -11.788609\n",
       "6   -1.816932 1.898954  4.058051          0.019305801 -15.069775\n",
       "7   -7.796365 2.648409  6.567943          0.011755453 -21.349195\n",
       "8   -4.698651 3.230186  8.516359          0.005819454 -49.353596\n",
       "  volatile.acidity         pH\n",
       "4        -3.831660 -0.1475751\n",
       "5        -6.563636 -2.2542007\n",
       "6        -8.727388 -2.6633364\n",
       "7       -10.969574 -3.7075804\n",
       "8        -9.950934 -7.3846670\n",
       "\n",
       "Std. Errors:\n",
       "  (Intercept)   alcohol sulphates total.sulfur.dioxide chlorides\n",
       "4    3.400193 0.8181153  2.069120           0.02011798  2.986980\n",
       "5    2.011930 0.7997983  1.793649           0.01939234  1.782556\n",
       "6    1.852578 0.8011730  1.783610           0.01945042  1.809380\n",
       "7    2.298715 0.8060805  1.820534           0.01976368  3.080256\n",
       "8    4.762656 0.8551413  2.149669           0.02206558  1.069030\n",
       "  volatile.acidity       pH\n",
       "4         1.980180 2.250602\n",
       "5         1.930352 2.057692\n",
       "6         1.955812 2.055149\n",
       "7         2.056717 2.102856\n",
       "8         2.911969 2.609065\n",
       "\n",
       "Residual Deviance: 2392.682 \n",
       "AIC: 2462.682 "
      ]
     },
     "metadata": {},
     "output_type": "display_data"
    }
   ],
   "source": [
    "# multinomial regression\n",
    "quality_mult <- multinom(quality ~ alcohol + sulphates + total.sulfur.dioxide + chlorides + volatile.acidity + pH,\n",
    "                        data = quality_Train)\n",
    "summary(quality_mult)"
   ]
  },
  {
   "cell_type": "code",
   "execution_count": 155,
   "metadata": {},
   "outputs": [
    {
     "name": "stdout",
     "output_type": "stream",
     "text": [
      "  (Intercept)  alcohol sulphates total.sulfur.dioxide  chlorides\n",
      "4  -2.9507876 1.729197  1.188590            0.8423729  -2.858495\n",
      "5   2.2201384 1.364107  1.103020            1.6177671  -6.613319\n",
      "6  -0.9807591 2.370217  2.275189            0.9925649  -8.328694\n",
      "7  -3.3916182 3.285540  3.607701            0.5948009  -6.930980\n",
      "8  -0.9865611 3.777372  3.961708            0.2637345 -46.166728\n",
      "  volatile.acidity          pH\n",
      "4        -1.935006 -0.06557139\n",
      "5        -3.400227 -1.09549984\n",
      "6        -4.462283 -1.29593337\n",
      "7        -5.333536 -1.76311680\n",
      "8        -3.417253 -2.83038802\n"
     ]
    }
   ],
   "source": [
    "# calculating z value\n",
    "z <- summary(quality_mult)$coefficients/summary(quality_mult)$standard.errors\n",
    "print(z)"
   ]
  },
  {
   "cell_type": "code",
   "execution_count": 156,
   "metadata": {},
   "outputs": [
    {
     "name": "stdout",
     "output_type": "stream",
     "text": [
      "   (Intercept)      alcohol    sulphates total.sulfur.dioxide    chlorides\n",
      "4 0.0031696484 0.0837737916 2.346011e-01            0.3995793 4.256556e-03\n",
      "5 0.0264093774 0.1725340164 2.700185e-01            0.1057128 3.757972e-11\n",
      "6 0.3267115616 0.0177776308 2.289457e-02            0.3209220 0.000000e+00\n",
      "7 0.0006948119 0.0010178717 3.089224e-04            0.5519766 4.179324e-12\n",
      "8 0.3238578683 0.0001584921 7.441561e-05            0.7919845 0.000000e+00\n",
      "  volatile.acidity          pH\n",
      "4     5.298952e-02 0.947719065\n",
      "5     6.732993e-04 0.273297715\n",
      "6     8.109107e-06 0.194998440\n",
      "7     9.631828e-08 0.077880793\n",
      "8     6.325649e-04 0.004649158\n"
     ]
    }
   ],
   "source": [
    "# calculating p value\n",
    "p <- (1 - pnorm(abs(z), 0, 1))*2\n",
    "print(p)"
   ]
  },
  {
   "cell_type": "code",
   "execution_count": 157,
   "metadata": {},
   "outputs": [
    {
     "data": {
      "text/plain": [
       "Confusion Matrix and Statistics\n",
       "\n",
       "          Reference\n",
       "Prediction   3   4   5   6   7   8\n",
       "         3   0   0   0   0   0   0\n",
       "         4   0   0   1   0   0   0\n",
       "         5   2   8 104  41   2   0\n",
       "         6   0   3  30  83  23   2\n",
       "         7   0   0   1   4  15   2\n",
       "         8   0   0   0   0   0   0\n",
       "\n",
       "Overall Statistics\n",
       "                                          \n",
       "               Accuracy : 0.6293          \n",
       "                 95% CI : (0.5739, 0.6823)\n",
       "    No Information Rate : 0.4237          \n",
       "    P-Value [Acc > NIR] : 1.005e-13       \n",
       "                                          \n",
       "                  Kappa : 0.3913          \n",
       " Mcnemar's Test P-Value : NA              \n",
       "\n",
       "Statistics by Class:\n",
       "\n",
       "                     Class: 3 Class: 4 Class: 5 Class: 6 Class: 7 Class: 8\n",
       "Sensitivity          0.000000 0.000000   0.7647   0.6484  0.37500  0.00000\n",
       "Specificity          1.000000 0.996774   0.7135   0.6995  0.97509  1.00000\n",
       "Pos Pred Value            NaN 0.000000   0.6624   0.5887  0.68182      NaN\n",
       "Neg Pred Value       0.993769 0.965625   0.8049   0.7500  0.91639  0.98754\n",
       "Prevalence           0.006231 0.034268   0.4237   0.3988  0.12461  0.01246\n",
       "Detection Rate       0.000000 0.000000   0.3240   0.2586  0.04673  0.00000\n",
       "Detection Prevalence 0.000000 0.003115   0.4891   0.4393  0.06854  0.00000\n",
       "Balanced Accuracy    0.500000 0.498387   0.7391   0.6740  0.67504  0.50000"
      ]
     },
     "metadata": {},
     "output_type": "display_data"
    }
   ],
   "source": [
    "# constructing confusin matrix\n",
    "prediction_mult <- predict(quality_mult, newdata = quality_Test, type = 'class')\n",
    "confusionMatrix(prediction_mult, quality_Test[[\"quality\"]])"
   ]
  },
  {
   "cell_type": "markdown",
   "metadata": {},
   "source": [
    "* we able to achieve 63% accuracy with above multinom model."
   ]
  },
  {
   "cell_type": "markdown",
   "metadata": {},
   "source": [
    "Now we convert quality variable into good and bad wine based on current quality ratings\n",
    "    * quality >= 6 is good wine\n",
    "    * quality < 6 is bad wine"
   ]
  },
  {
   "cell_type": "code",
   "execution_count": 158,
   "metadata": {},
   "outputs": [],
   "source": [
    "winequality$good.wine <- ifelse(winequality$quality > 6,1,0)"
   ]
  },
  {
   "cell_type": "code",
   "execution_count": 159,
   "metadata": {},
   "outputs": [
    {
     "data": {
      "text/html": [
       "<table>\n",
       "<thead><tr><th scope=col>fixed.acidity</th><th scope=col>volatile.acidity</th><th scope=col>citric.acid</th><th scope=col>residual.sugar</th><th scope=col>chlorides</th><th scope=col>free.sulfur.dioxide</th><th scope=col>total.sulfur.dioxide</th><th scope=col>density</th><th scope=col>pH</th><th scope=col>sulphates</th><th scope=col>alcohol</th><th scope=col>quality</th><th scope=col>good.wine</th></tr></thead>\n",
       "<tbody>\n",
       "\t<tr><td> 7.4  </td><td>0.70  </td><td>0.00  </td><td>1.9   </td><td>0.076 </td><td>11    </td><td>34    </td><td>0.9978</td><td>3.51  </td><td>0.56  </td><td>9.4   </td><td>5     </td><td>0     </td></tr>\n",
       "\t<tr><td> 7.8  </td><td>0.88  </td><td>0.00  </td><td>2.6   </td><td>0.098 </td><td>25    </td><td>67    </td><td>0.9968</td><td>3.20  </td><td>0.68  </td><td>9.8   </td><td>5     </td><td>0     </td></tr>\n",
       "\t<tr><td> 7.8  </td><td>0.76  </td><td>0.04  </td><td>2.3   </td><td>0.092 </td><td>15    </td><td>54    </td><td>0.9970</td><td>3.26  </td><td>0.65  </td><td>9.8   </td><td>5     </td><td>0     </td></tr>\n",
       "\t<tr><td>11.2  </td><td>0.28  </td><td>0.56  </td><td>1.9   </td><td>0.075 </td><td>17    </td><td>60    </td><td>0.9980</td><td>3.16  </td><td>0.58  </td><td>9.8   </td><td>6     </td><td>0     </td></tr>\n",
       "\t<tr><td> 7.4  </td><td>0.70  </td><td>0.00  </td><td>1.9   </td><td>0.076 </td><td>11    </td><td>34    </td><td>0.9978</td><td>3.51  </td><td>0.56  </td><td>9.4   </td><td>5     </td><td>0     </td></tr>\n",
       "\t<tr><td> 7.4  </td><td>0.66  </td><td>0.00  </td><td>1.8   </td><td>0.075 </td><td>13    </td><td>40    </td><td>0.9978</td><td>3.51  </td><td>0.56  </td><td>9.4   </td><td>5     </td><td>0     </td></tr>\n",
       "</tbody>\n",
       "</table>\n"
      ],
      "text/latex": [
       "\\begin{tabular}{r|lllllllllllll}\n",
       " fixed.acidity & volatile.acidity & citric.acid & residual.sugar & chlorides & free.sulfur.dioxide & total.sulfur.dioxide & density & pH & sulphates & alcohol & quality & good.wine\\\\\n",
       "\\hline\n",
       "\t  7.4   & 0.70   & 0.00   & 1.9    & 0.076  & 11     & 34     & 0.9978 & 3.51   & 0.56   & 9.4    & 5      & 0     \\\\\n",
       "\t  7.8   & 0.88   & 0.00   & 2.6    & 0.098  & 25     & 67     & 0.9968 & 3.20   & 0.68   & 9.8    & 5      & 0     \\\\\n",
       "\t  7.8   & 0.76   & 0.04   & 2.3    & 0.092  & 15     & 54     & 0.9970 & 3.26   & 0.65   & 9.8    & 5      & 0     \\\\\n",
       "\t 11.2   & 0.28   & 0.56   & 1.9    & 0.075  & 17     & 60     & 0.9980 & 3.16   & 0.58   & 9.8    & 6      & 0     \\\\\n",
       "\t  7.4   & 0.70   & 0.00   & 1.9    & 0.076  & 11     & 34     & 0.9978 & 3.51   & 0.56   & 9.4    & 5      & 0     \\\\\n",
       "\t  7.4   & 0.66   & 0.00   & 1.8    & 0.075  & 13     & 40     & 0.9978 & 3.51   & 0.56   & 9.4    & 5      & 0     \\\\\n",
       "\\end{tabular}\n"
      ],
      "text/markdown": [
       "\n",
       "fixed.acidity | volatile.acidity | citric.acid | residual.sugar | chlorides | free.sulfur.dioxide | total.sulfur.dioxide | density | pH | sulphates | alcohol | quality | good.wine | \n",
       "|---|---|---|---|---|---|\n",
       "|  7.4   | 0.70   | 0.00   | 1.9    | 0.076  | 11     | 34     | 0.9978 | 3.51   | 0.56   | 9.4    | 5      | 0      | \n",
       "|  7.8   | 0.88   | 0.00   | 2.6    | 0.098  | 25     | 67     | 0.9968 | 3.20   | 0.68   | 9.8    | 5      | 0      | \n",
       "|  7.8   | 0.76   | 0.04   | 2.3    | 0.092  | 15     | 54     | 0.9970 | 3.26   | 0.65   | 9.8    | 5      | 0      | \n",
       "| 11.2   | 0.28   | 0.56   | 1.9    | 0.075  | 17     | 60     | 0.9980 | 3.16   | 0.58   | 9.8    | 6      | 0      | \n",
       "|  7.4   | 0.70   | 0.00   | 1.9    | 0.076  | 11     | 34     | 0.9978 | 3.51   | 0.56   | 9.4    | 5      | 0      | \n",
       "|  7.4   | 0.66   | 0.00   | 1.8    | 0.075  | 13     | 40     | 0.9978 | 3.51   | 0.56   | 9.4    | 5      | 0      | \n",
       "\n",
       "\n"
      ],
      "text/plain": [
       "  fixed.acidity volatile.acidity citric.acid residual.sugar chlorides\n",
       "1  7.4          0.70             0.00        1.9            0.076    \n",
       "2  7.8          0.88             0.00        2.6            0.098    \n",
       "3  7.8          0.76             0.04        2.3            0.092    \n",
       "4 11.2          0.28             0.56        1.9            0.075    \n",
       "5  7.4          0.70             0.00        1.9            0.076    \n",
       "6  7.4          0.66             0.00        1.8            0.075    \n",
       "  free.sulfur.dioxide total.sulfur.dioxide density pH   sulphates alcohol\n",
       "1 11                  34                   0.9978  3.51 0.56      9.4    \n",
       "2 25                  67                   0.9968  3.20 0.68      9.8    \n",
       "3 15                  54                   0.9970  3.26 0.65      9.8    \n",
       "4 17                  60                   0.9980  3.16 0.58      9.8    \n",
       "5 11                  34                   0.9978  3.51 0.56      9.4    \n",
       "6 13                  40                   0.9978  3.51 0.56      9.4    \n",
       "  quality good.wine\n",
       "1 5       0        \n",
       "2 5       0        \n",
       "3 5       0        \n",
       "4 6       0        \n",
       "5 5       0        \n",
       "6 5       0        "
      ]
     },
     "metadata": {},
     "output_type": "display_data"
    }
   ],
   "source": [
    "head(winequality)"
   ]
  },
  {
   "cell_type": "code",
   "execution_count": 160,
   "metadata": {},
   "outputs": [
    {
     "name": "stdout",
     "output_type": "stream",
     "text": [
      "'data.frame':\t1599 obs. of  13 variables:\n",
      " $ fixed.acidity       : num  7.4 7.8 7.8 11.2 7.4 7.4 7.9 7.3 7.8 7.5 ...\n",
      " $ volatile.acidity    : num  0.7 0.88 0.76 0.28 0.7 0.66 0.6 0.65 0.58 0.5 ...\n",
      " $ citric.acid         : num  0 0 0.04 0.56 0 0 0.06 0 0.02 0.36 ...\n",
      " $ residual.sugar      : num  1.9 2.6 2.3 1.9 1.9 1.8 1.6 1.2 2 6.1 ...\n",
      " $ chlorides           : num  0.076 0.098 0.092 0.075 0.076 0.075 0.069 0.065 0.073 0.071 ...\n",
      " $ free.sulfur.dioxide : num  11 25 15 17 11 13 15 15 9 17 ...\n",
      " $ total.sulfur.dioxide: num  34 67 54 60 34 40 59 21 18 102 ...\n",
      " $ density             : num  0.998 0.997 0.997 0.998 0.998 ...\n",
      " $ pH                  : num  3.51 3.2 3.26 3.16 3.51 3.51 3.3 3.39 3.36 3.35 ...\n",
      " $ sulphates           : num  0.56 0.68 0.65 0.58 0.56 0.56 0.46 0.47 0.57 0.8 ...\n",
      " $ alcohol             : num  9.4 9.8 9.8 9.8 9.4 9.4 9.4 10 9.5 10.5 ...\n",
      " $ quality             : int  5 5 5 6 5 5 5 7 7 5 ...\n",
      " $ good.wine           : Factor w/ 2 levels \"0\",\"1\": 1 1 1 1 1 1 1 2 2 1 ...\n"
     ]
    }
   ],
   "source": [
    "winequality$good.wine <- as.factor(winequality$good.wine)\n",
    "str(winequality)"
   ]
  },
  {
   "cell_type": "code",
   "execution_count": 161,
   "metadata": {},
   "outputs": [],
   "source": [
    "# splitting data into training and test dataset\n",
    "set.seed(80)\n",
    "data_split <- sample.split(winequality$good.wine, SplitRatio = 0.8)\n",
    "quality_Train <- subset(winequality, data_split == TRUE)\n",
    "quality_Test <- subset(winequality, data_split == FALSE)"
   ]
  },
  {
   "cell_type": "code",
   "execution_count": 162,
   "metadata": {},
   "outputs": [
    {
     "data": {
      "text/html": [
       "<table>\n",
       "<thead><tr><th></th><th scope=col>fixed.acidity</th><th scope=col>volatile.acidity</th><th scope=col>citric.acid</th><th scope=col>residual.sugar</th><th scope=col>chlorides</th><th scope=col>free.sulfur.dioxide</th><th scope=col>total.sulfur.dioxide</th><th scope=col>density</th><th scope=col>pH</th><th scope=col>sulphates</th><th scope=col>alcohol</th><th scope=col>quality</th><th scope=col>good.wine</th></tr></thead>\n",
       "<tbody>\n",
       "\t<tr><th scope=row>1</th><td> 7.4  </td><td>0.70  </td><td>0.00  </td><td>1.9   </td><td>0.076 </td><td>11    </td><td>34    </td><td>0.9978</td><td>3.51  </td><td>0.56  </td><td>9.4   </td><td>5     </td><td>0     </td></tr>\n",
       "\t<tr><th scope=row>2</th><td> 7.8  </td><td>0.88  </td><td>0.00  </td><td>2.6   </td><td>0.098 </td><td>25    </td><td>67    </td><td>0.9968</td><td>3.20  </td><td>0.68  </td><td>9.8   </td><td>5     </td><td>0     </td></tr>\n",
       "\t<tr><th scope=row>4</th><td>11.2  </td><td>0.28  </td><td>0.56  </td><td>1.9   </td><td>0.075 </td><td>17    </td><td>60    </td><td>0.9980</td><td>3.16  </td><td>0.58  </td><td>9.8   </td><td>6     </td><td>0     </td></tr>\n",
       "\t<tr><th scope=row>5</th><td> 7.4  </td><td>0.70  </td><td>0.00  </td><td>1.9   </td><td>0.076 </td><td>11    </td><td>34    </td><td>0.9978</td><td>3.51  </td><td>0.56  </td><td>9.4   </td><td>5     </td><td>0     </td></tr>\n",
       "\t<tr><th scope=row>6</th><td> 7.4  </td><td>0.66  </td><td>0.00  </td><td>1.8   </td><td>0.075 </td><td>13    </td><td>40    </td><td>0.9978</td><td>3.51  </td><td>0.56  </td><td>9.4   </td><td>5     </td><td>0     </td></tr>\n",
       "\t<tr><th scope=row>7</th><td> 7.9  </td><td>0.60  </td><td>0.06  </td><td>1.6   </td><td>0.069 </td><td>15    </td><td>59    </td><td>0.9964</td><td>3.30  </td><td>0.46  </td><td>9.4   </td><td>5     </td><td>0     </td></tr>\n",
       "</tbody>\n",
       "</table>\n"
      ],
      "text/latex": [
       "\\begin{tabular}{r|lllllllllllll}\n",
       "  & fixed.acidity & volatile.acidity & citric.acid & residual.sugar & chlorides & free.sulfur.dioxide & total.sulfur.dioxide & density & pH & sulphates & alcohol & quality & good.wine\\\\\n",
       "\\hline\n",
       "\t1 &  7.4   & 0.70   & 0.00   & 1.9    & 0.076  & 11     & 34     & 0.9978 & 3.51   & 0.56   & 9.4    & 5      & 0     \\\\\n",
       "\t2 &  7.8   & 0.88   & 0.00   & 2.6    & 0.098  & 25     & 67     & 0.9968 & 3.20   & 0.68   & 9.8    & 5      & 0     \\\\\n",
       "\t4 & 11.2   & 0.28   & 0.56   & 1.9    & 0.075  & 17     & 60     & 0.9980 & 3.16   & 0.58   & 9.8    & 6      & 0     \\\\\n",
       "\t5 &  7.4   & 0.70   & 0.00   & 1.9    & 0.076  & 11     & 34     & 0.9978 & 3.51   & 0.56   & 9.4    & 5      & 0     \\\\\n",
       "\t6 &  7.4   & 0.66   & 0.00   & 1.8    & 0.075  & 13     & 40     & 0.9978 & 3.51   & 0.56   & 9.4    & 5      & 0     \\\\\n",
       "\t7 &  7.9   & 0.60   & 0.06   & 1.6    & 0.069  & 15     & 59     & 0.9964 & 3.30   & 0.46   & 9.4    & 5      & 0     \\\\\n",
       "\\end{tabular}\n"
      ],
      "text/markdown": [
       "\n",
       "| <!--/--> | fixed.acidity | volatile.acidity | citric.acid | residual.sugar | chlorides | free.sulfur.dioxide | total.sulfur.dioxide | density | pH | sulphates | alcohol | quality | good.wine | \n",
       "|---|---|---|---|---|---|\n",
       "| 1 |  7.4   | 0.70   | 0.00   | 1.9    | 0.076  | 11     | 34     | 0.9978 | 3.51   | 0.56   | 9.4    | 5      | 0      | \n",
       "| 2 |  7.8   | 0.88   | 0.00   | 2.6    | 0.098  | 25     | 67     | 0.9968 | 3.20   | 0.68   | 9.8    | 5      | 0      | \n",
       "| 4 | 11.2   | 0.28   | 0.56   | 1.9    | 0.075  | 17     | 60     | 0.9980 | 3.16   | 0.58   | 9.8    | 6      | 0      | \n",
       "| 5 |  7.4   | 0.70   | 0.00   | 1.9    | 0.076  | 11     | 34     | 0.9978 | 3.51   | 0.56   | 9.4    | 5      | 0      | \n",
       "| 6 |  7.4   | 0.66   | 0.00   | 1.8    | 0.075  | 13     | 40     | 0.9978 | 3.51   | 0.56   | 9.4    | 5      | 0      | \n",
       "| 7 |  7.9   | 0.60   | 0.06   | 1.6    | 0.069  | 15     | 59     | 0.9964 | 3.30   | 0.46   | 9.4    | 5      | 0      | \n",
       "\n",
       "\n"
      ],
      "text/plain": [
       "  fixed.acidity volatile.acidity citric.acid residual.sugar chlorides\n",
       "1  7.4          0.70             0.00        1.9            0.076    \n",
       "2  7.8          0.88             0.00        2.6            0.098    \n",
       "4 11.2          0.28             0.56        1.9            0.075    \n",
       "5  7.4          0.70             0.00        1.9            0.076    \n",
       "6  7.4          0.66             0.00        1.8            0.075    \n",
       "7  7.9          0.60             0.06        1.6            0.069    \n",
       "  free.sulfur.dioxide total.sulfur.dioxide density pH   sulphates alcohol\n",
       "1 11                  34                   0.9978  3.51 0.56      9.4    \n",
       "2 25                  67                   0.9968  3.20 0.68      9.8    \n",
       "4 17                  60                   0.9980  3.16 0.58      9.8    \n",
       "5 11                  34                   0.9978  3.51 0.56      9.4    \n",
       "6 13                  40                   0.9978  3.51 0.56      9.4    \n",
       "7 15                  59                   0.9964  3.30 0.46      9.4    \n",
       "  quality good.wine\n",
       "1 5       0        \n",
       "2 5       0        \n",
       "4 6       0        \n",
       "5 5       0        \n",
       "6 5       0        \n",
       "7 5       0        "
      ]
     },
     "metadata": {},
     "output_type": "display_data"
    }
   ],
   "source": [
    "head(quality_Train)"
   ]
  },
  {
   "cell_type": "markdown",
   "metadata": {},
   "source": [
    "#### Binomial glm"
   ]
  },
  {
   "cell_type": "code",
   "execution_count": 163,
   "metadata": {},
   "outputs": [
    {
     "data": {
      "text/plain": [
       "\n",
       "Call:\n",
       "glm(formula = good.wine ~ alcohol + sulphates + total.sulfur.dioxide + \n",
       "    chlorides + volatile.acidity + pH, family = binomial(link = \"logit\"), \n",
       "    data = quality_Train)\n",
       "\n",
       "Deviance Residuals: \n",
       "    Min       1Q   Median       3Q      Max  \n",
       "-2.5388  -0.4447  -0.2459  -0.1441   2.8974  \n",
       "\n",
       "Coefficients:\n",
       "                      Estimate Std. Error z value Pr(>|z|)    \n",
       "(Intercept)          -7.105718   2.300912  -3.088  0.00201 ** \n",
       "alcohol               1.015524   0.095941  10.585  < 2e-16 ***\n",
       "sulphates             3.172385   0.591410   5.364 8.14e-08 ***\n",
       "total.sulfur.dioxide -0.010325   0.003644  -2.834  0.00460 ** \n",
       "chlorides            -7.030800   3.086056  -2.278  0.02271 *  \n",
       "volatile.acidity     -2.736650   0.690987  -3.960 7.48e-05 ***\n",
       "pH                   -1.716470   0.682247  -2.516  0.01187 *  \n",
       "---\n",
       "Signif. codes:  0 '***' 0.001 '**' 0.01 '*' 0.05 '.' 0.1 ' ' 1\n",
       "\n",
       "(Dispersion parameter for binomial family taken to be 1)\n",
       "\n",
       "    Null deviance: 1017.65  on 1279  degrees of freedom\n",
       "Residual deviance:  724.79  on 1273  degrees of freedom\n",
       "AIC: 738.79\n",
       "\n",
       "Number of Fisher Scoring iterations: 6\n"
      ]
     },
     "metadata": {},
     "output_type": "display_data"
    }
   ],
   "source": [
    "quality_bi_glm <- glm(good.wine ~ alcohol + sulphates + total.sulfur.dioxide + chlorides + volatile.acidity + pH,\n",
    "                      data = quality_Train, family=binomial(link='logit'))\n",
    "summary(quality_bi_glm)"
   ]
  },
  {
   "cell_type": "code",
   "execution_count": 164,
   "metadata": {},
   "outputs": [],
   "source": [
    "# constructing confusin matrix\n",
    "prediction_bi_mult <- predict.glm(quality_bi_glm, newdata = quality_Test, type = 'response')"
   ]
  },
  {
   "cell_type": "code",
   "execution_count": 165,
   "metadata": {},
   "outputs": [],
   "source": [
    "predicted_values <- ifelse(prediction_bi_mult > 0.5,1,0)"
   ]
  },
  {
   "cell_type": "code",
   "execution_count": 166,
   "metadata": {},
   "outputs": [
    {
     "data": {
      "text/plain": [
       "Confusion Matrix and Statistics\n",
       "\n",
       "          Reference\n",
       "Prediction   0   1\n",
       "         0 266  27\n",
       "         1  10  16\n",
       "                                         \n",
       "               Accuracy : 0.884          \n",
       "                 95% CI : (0.8437, 0.917)\n",
       "    No Information Rate : 0.8652         \n",
       "    P-Value [Acc > NIR] : 0.184520       \n",
       "                                         \n",
       "                  Kappa : 0.4031         \n",
       " Mcnemar's Test P-Value : 0.008529       \n",
       "                                         \n",
       "            Sensitivity : 0.9638         \n",
       "            Specificity : 0.3721         \n",
       "         Pos Pred Value : 0.9078         \n",
       "         Neg Pred Value : 0.6154         \n",
       "             Prevalence : 0.8652         \n",
       "         Detection Rate : 0.8339         \n",
       "   Detection Prevalence : 0.9185         \n",
       "      Balanced Accuracy : 0.6679         \n",
       "                                         \n",
       "       'Positive' Class : 0              \n",
       "                                         "
      ]
     },
     "metadata": {},
     "output_type": "display_data"
    }
   ],
   "source": [
    "confusionMatrix(predicted_values, quality_Test$good.wine)"
   ]
  },
  {
   "cell_type": "markdown",
   "metadata": {},
   "source": [
    "* predicton accuracy increased to 88%"
   ]
  },
  {
   "cell_type": "code",
   "execution_count": 168,
   "metadata": {},
   "outputs": [
    {
     "data": {
      "text/html": [
       "'C:/Users/Ajinkya'"
      ],
      "text/latex": [
       "'C:/Users/Ajinkya'"
      ],
      "text/markdown": [
       "'C:/Users/Ajinkya'"
      ],
      "text/plain": [
       "[1] \"C:/Users/Ajinkya\""
      ]
     },
     "metadata": {},
     "output_type": "display_data"
    }
   ],
   "source": [
    "getwd()"
   ]
  },
  {
   "cell_type": "code",
   "execution_count": null,
   "metadata": {},
   "outputs": [],
   "source": []
  }
 ],
 "metadata": {
  "kernelspec": {
   "display_name": "R",
   "language": "R",
   "name": "ir"
  },
  "language_info": {
   "codemirror_mode": "r",
   "file_extension": ".r",
   "mimetype": "text/x-r-source",
   "name": "R",
   "pygments_lexer": "r",
   "version": "3.4.3"
  }
 },
 "nbformat": 4,
 "nbformat_minor": 2
}
